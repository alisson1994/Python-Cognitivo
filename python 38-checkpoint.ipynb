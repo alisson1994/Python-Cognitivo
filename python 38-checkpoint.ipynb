{
 "cells": [
  {
   "cell_type": "code",
   "execution_count": 2,
   "metadata": {
    "collapsed": false
   },
   "outputs": [
    {
     "name": "stdout",
     "output_type": "stream",
     "text": [
      "Wait there are not 10 things in that list. Let's fix that.\n"
     ]
    }
   ],
   "source": [
    "ten_things = \"Apples Oranges Crows Telephone Light Sugar\"\n",
    "\n",
    "print \"Wait there are not 10 things in that list. Let's fix that.\"\n"
   ]
  },
  {
   "cell_type": "code",
   "execution_count": 5,
   "metadata": {
    "collapsed": false
   },
   "outputs": [
    {
     "name": "stdout",
     "output_type": "stream",
     "text": [
      "['Apples', 'Oranges', 'Crows', 'Telephone', 'Light', 'Sugar']\n",
      "['Day', 'Night', 'Song', 'Frisbee', 'Corn', 'Banana', 'Girl', 'Boy']\n"
     ]
    }
   ],
   "source": [
    "stuff = ten_things.split(' ')\n",
    "more_stuff = [\"Day\", \"Night\", \"Song\", \"Frisbee\", \"Corn\", \"Banana\", \"Girl\", \"Boy\"]\n",
    "# Só para testar ! \n",
    "print stuff\n",
    "print more_stuff"
   ]
  },
  {
   "cell_type": "code",
   "execution_count": 6,
   "metadata": {
    "collapsed": false
   },
   "outputs": [
    {
     "name": "stdout",
     "output_type": "stream",
     "text": [
      "Adding:  Boy\n",
      "There are 7 items now.\n",
      "Adding:  Girl\n",
      "There are 8 items now.\n",
      "Adding:  Banana\n",
      "There are 9 items now.\n",
      "Adding:  Corn\n",
      "There are 10 items now.\n"
     ]
    }
   ],
   "source": [
    "while len(stuff) != 10:\n",
    "    next_one = more_stuff.pop()\n",
    "    print \"Adding: \", next_one\n",
    "    stuff.append(next_one)\n",
    "    print \"There are %d items now.\" % len(stuff)"
   ]
  },
  {
   "cell_type": "code",
   "execution_count": 7,
   "metadata": {
    "collapsed": false
   },
   "outputs": [
    {
     "name": "stdout",
     "output_type": "stream",
     "text": [
      "There we go:  ['Apples', 'Oranges', 'Crows', 'Telephone', 'Light', 'Sugar', 'Boy', 'Girl', 'Banana', 'Corn']\n"
     ]
    }
   ],
   "source": [
    "print \"There we go: \", stuff"
   ]
  },
  {
   "cell_type": "code",
   "execution_count": 8,
   "metadata": {
    "collapsed": false
   },
   "outputs": [
    {
     "name": "stdout",
     "output_type": "stream",
     "text": [
      "Let's do some things with stuff.\n",
      "Oranges\n",
      "Corn\n",
      "Corn\n",
      "Apples Oranges Crows Telephone Light Sugar Boy Girl Banana\n",
      "Telephone#Light\n"
     ]
    }
   ],
   "source": [
    "print \"Let's do some things with stuff.\"\n",
    "\n",
    "print stuff[1]\n",
    "print stuff[-1] # Whoa ! Fancy\n",
    "print stuff.pop()\n",
    "print ' '.join(stuff) # What? Cool ! \n",
    "print '#'.join(stuff[3:5]) # Super Stellar ! "
   ]
  },
  {
   "cell_type": "code",
   "execution_count": 9,
   "metadata": {
    "collapsed": false
   },
   "outputs": [
    {
     "name": "stdout",
     "output_type": "stream",
     "text": [
      "Banana\n"
     ]
    }
   ],
   "source": [
    "print stuff.pop()"
   ]
  },
  {
   "cell_type": "code",
   "execution_count": 10,
   "metadata": {
    "collapsed": false
   },
   "outputs": [
    {
     "name": "stdout",
     "output_type": "stream",
     "text": [
      "Girl\n"
     ]
    }
   ],
   "source": [
    "print stuff.pop()"
   ]
  },
  {
   "cell_type": "code",
   "execution_count": 11,
   "metadata": {
    "collapsed": false
   },
   "outputs": [
    {
     "name": "stdout",
     "output_type": "stream",
     "text": [
      "Telephone#Light\n"
     ]
    }
   ],
   "source": [
    "print '#'.join(stuff[3:5])"
   ]
  },
  {
   "cell_type": "code",
   "execution_count": 12,
   "metadata": {
    "collapsed": false
   },
   "outputs": [
    {
     "name": "stdout",
     "output_type": "stream",
     "text": [
      "Oranges\n",
      "Boy\n",
      "Boy\n",
      "Apples Oranges Crows Telephone Light Sugar\n",
      "Telephone#Light\n"
     ]
    }
   ],
   "source": [
    "# Explicando as funções do print ! \n",
    "\n",
    "print stuff[1]\n",
    "# Vai trazer o item 1 da lista, lembrando que em python a contagem começa em 0\n",
    "print stuff[-1]\n",
    "# Esse vai retornar o negativo do primeiro, no caso o ultimo item da lista\n",
    "print stuff.pop()\n",
    "# Este por sua vez, vai trazer um resultado aleatório\n",
    "print ' '.join(stuff)\n",
    "# Este aqui, vai mostrar os itens \n",
    "print '#'.join(stuff[3:5])\n",
    "# Retornara os indices entre 3 e 5 sem contar o último indice numerado no comando"
   ]
  },
  {
   "cell_type": "code",
   "execution_count": null,
   "metadata": {
    "collapsed": true
   },
   "outputs": [],
   "source": []
  }
 ],
 "metadata": {
  "kernelspec": {
   "display_name": "Python 2",
   "language": "python",
   "name": "python2"
  },
  "language_info": {
   "codemirror_mode": {
    "name": "ipython",
    "version": 2
   },
   "file_extension": ".py",
   "mimetype": "text/x-python",
   "name": "python",
   "nbconvert_exporter": "python",
   "pygments_lexer": "ipython2",
   "version": "2.7.13"
  }
 },
 "nbformat": 4,
 "nbformat_minor": 2
}
