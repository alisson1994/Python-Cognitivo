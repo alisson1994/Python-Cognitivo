{
 "cells": [
  {
   "cell_type": "markdown",
   "metadata": {},
   "source": [
    "# Criar um mapeamento de estado com abreviação ! "
   ]
  },
  {
   "cell_type": "code",
   "execution_count": 27,
   "metadata": {
    "collapsed": false
   },
   "outputs": [
    {
     "name": "stdout",
     "output_type": "stream",
     "text": [
      "{'California': 'CA', 'Michigan': 'MI', 'New York': 'NY', 'Florida': 'FL', 'Oregon': 'OR'}\n",
      "{'FL': 'Jacksonville', 'CA': 'San Francisco', 'MI': 'Detroit'}\n",
      "----------\n",
      "NY State has:  New York\n",
      "OR State has:  Portland\n",
      "----------\n",
      "Michigan's abbreviation is:  MI\n",
      "Florida abbreviation is:  FL\n",
      "----------\n",
      "Michigan has:  Detroit\n",
      "Florida has:  Jacksonville\n",
      "----------\n",
      "California is abbreviated CA\n",
      "Michigan is abbreviated MI\n",
      "New York is abbreviated NY\n",
      "Florida is abbreviated FL\n",
      "Oregon is abbreviated OR\n",
      "----------\n",
      "FL has the city Jacksonville\n",
      "CA has the city San Francisco\n",
      "MI has the city Detroit\n",
      "OR has the city Portland\n",
      "NY has the city New York\n",
      "----------\n",
      "California state is abbreviated CA and has city San Francisco\n",
      "Michigan state is abbreviated MI and has city Detroit\n",
      "New York state is abbreviated NY and has city New York\n",
      "Florida state is abbreviated FL and has city Jacksonville\n",
      "Oregon state is abbreviated OR and has city Portland\n",
      "----------\n",
      "The city for the state 'TX' is Does Not Exist\n"
     ]
    }
   ],
   "source": [
    "# Criar um mapa com o estado e a abreviação ! \n",
    "\n",
    "states = {'Oregon': 'OR', 'Florida': 'FL', 'California': 'CA', 'New York': 'NY', 'Michigan': 'MI'}\n",
    "\n",
    "# Criar um conjunto básico de estados e algumas cidades neles\n",
    "\n",
    "\n",
    "cities = {'CA': 'San Francisco', 'MI': 'Detroit', 'FL': 'Jacksonville'}\n",
    "\n",
    "print states\n",
    "print cities\n",
    "# Adicionando mais cidades !\n",
    "\n",
    "cities['NY'] = 'New York'\n",
    "cities['OR'] = 'Portland'\n",
    "\n",
    "# Printando as cidades ! \n",
    "print '-' * 10 # ? \n",
    "print \"NY State has: \", cities['NY']\n",
    "print \"OR State has: \", cities['OR']\n",
    "\n",
    "# Printando os estados ! \n",
    "print '-' * 10 # ?\n",
    "print \"Michigan's abbreviation is: \", states[\"Michigan\"]\n",
    "print \"Florida abbreviation is: \", states[\"Florida\"]\n",
    "\n",
    "# ????\n",
    "print '-' * 10\n",
    "print \"Michigan has: \", cities[states['Michigan']]\n",
    "print \"Florida has: \", cities[states['Florida']]\n",
    "\n",
    "# Print todas a abreviações dos estados\n",
    "\n",
    "print '-' * 10\n",
    "for state, abbrev in states.items():\n",
    "    print \"%s is abbreviated %s\" % (state, abbrev)\n",
    "    \n",
    "# Printando todas as cidades no estado ! \n",
    "print '-' * 10\n",
    "for abbrev, city in cities.items():\n",
    "    print\"%s has the city %s\" % (abbrev, city)\n",
    "    \n",
    "# Agora façamos as duas coisas ao mesmo tempo ! \n",
    "print '-' * 10\n",
    "for state, abbrev in states.items():\n",
    "    print \"%s state is abbreviated %s and has city %s\" % (state, abbrev, cities[abbrev])\n",
    "    \n",
    "# Mais um estado que por segurança deveria estar aqui ! \n",
    "print '-' * 10\n",
    "state = states.get('Texas')\n",
    "\n",
    "if not states:\n",
    "    print\"Sorry, no Texas here.\"\n",
    "\n",
    "# Obtento uma cidade com um valor padrão ! \n",
    "city = cities.get(\"TX\", \"Does Not Exist\")\n",
    "print \"The city for the state 'TX' is %s\" % city"
   ]
  },
  {
   "cell_type": "code",
   "execution_count": null,
   "metadata": {
    "collapsed": false
   },
   "outputs": [],
   "source": []
  },
  {
   "cell_type": "code",
   "execution_count": null,
   "metadata": {
    "collapsed": true
   },
   "outputs": [],
   "source": []
  }
 ],
 "metadata": {
  "kernelspec": {
   "display_name": "Python 2",
   "language": "python",
   "name": "python2"
  },
  "language_info": {
   "codemirror_mode": {
    "name": "ipython",
    "version": 2
   },
   "file_extension": ".py",
   "mimetype": "text/x-python",
   "name": "python",
   "nbconvert_exporter": "python",
   "pygments_lexer": "ipython2",
   "version": "2.7.13"
  }
 },
 "nbformat": 4,
 "nbformat_minor": 2
}
