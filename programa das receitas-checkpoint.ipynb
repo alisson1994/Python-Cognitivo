{
 "cells": [
  {
   "cell_type": "code",
   "execution_count": 1,
   "metadata": {
    "collapsed": true
   },
   "outputs": [],
   "source": [
    "# coding: utf-8"
   ]
  },
  {
   "cell_type": "markdown",
   "metadata": {},
   "source": [
    "Tomada de decisão baseada em funções IF, else, elif\n",
    " O objetivo é montar um programa que vai te perguntar qual receita de bolo você vai querer\n",
    " preparar, e realizar uma série de verificações para auxiliar o passo-a-passo\n",
    " da preparação da sobre-mesa."
   ]
  },
  {
   "cell_type": "code",
   "execution_count": 2,
   "metadata": {
    "collapsed": false
   },
   "outputs": [
    {
     "name": "stdout",
     "output_type": "stream",
     "text": [
      "Olá seja bem vindo ao nosso sistema, iremos ajuda-lo a preparar uma deliciosa receita culinária hoje, por favor selecione o sabor que você deseja\n",
      "Digite o número de acordo com os Sabores:\n",
      "1 = Bolo de chocolate:\n",
      "2 = Omelete:\n",
      "3 = Recheio de chocolate\n"
     ]
    }
   ],
   "source": [
    "print\"Olá seja bem vindo ao nosso sistema, iremos ajuda-lo a preparar uma deliciosa receita culinária hoje, por favor selecione o que você deseja fazer hoje ! \"\n",
    "print \"Digite o número de acordo com a comida:\"\n",
    "print \"1 = Bolo de chocolate:\"\n",
    "print \"2 = Omelete:\" \n",
    "print \"3 = Recheio de chocolate\""
   ]
  },
  {
   "cell_type": "code",
   "execution_count": 3,
   "metadata": {
    "collapsed": false
   },
   "outputs": [
    {
     "name": "stdout",
     "output_type": "stream",
     "text": [
      "Escolha o numero da sua receita: 1\n"
     ]
    }
   ],
   "source": [
    "receita = input (\"Escolha o numero da sua receita: \")"
   ]
  },
  {
   "cell_type": "code",
   "execution_count": 4,
   "metadata": {
    "collapsed": false
   },
   "outputs": [
    {
     "name": "stdout",
     "output_type": "stream",
     "text": [
      "Ótimo, então vamos fazer um bolo de chocolate\n"
     ]
    }
   ],
   "source": [
    "if receita  == 1:\n",
    "    print\"Ótimo, então vamos fazer um bolo de chocolate\"    \n",
    "elif receita == 2:\n",
    "    print\"Ótimo, então vamos fazer um Omelete\"\n",
    "elif receita == 3:\n",
    "    print\"Tudo bem, vamos fazer a cobertura\"\n",
    "else:\n",
    "    print\"Por favor insira um número válido !\""
   ]
  },
  {
   "cell_type": "code",
   "execution_count": null,
   "metadata": {
    "collapsed": false
   },
   "outputs": [],
   "source": [
    "# Possui a receita ?\n",
    "\n",
    "if receita == 1:\n",
    "    print\"Você possui a receita ? 1 para sim, 2 para nao: \"\n",
    "    \n",
    "tr = input (\"Possui a receita dos ingredientes para o bolo de chocolate ? 1 para Sim, 2 para Nao: \")\n",
    "\n",
    "if tr == 1:\n",
    "    \n",
    "    print \"Entendi, então mãos na massa !\"\n",
    "    print \"Vamos ao modo de preparo\"\n",
    "    print \"\"\"\n",
    "    1) Em um liquidificador adicione os ovos, o chocolate em pó, a manteiga, a farinha de trigo, o açúcar e o leite, depois bata por 5 minutos\n",
    "    2) Adicione o fermento e misture com uma espátula delicadamente\n",
    "    3) Em uma forma untada, despeje a massa e asse em forno médio 180 ºC, preaquecido por cerca de 40 minutos\n",
    "    \"\"\"\n",
    "if tr == 2:\n",
    "    \n",
    "    print \"\"\"Certo neste caso você vai precisar da receita\n",
    "    Tenha em mãos:\n",
    "    Massa:\n",
    "    4 ovos.\n",
    "    4 colheres (sopa) de chocolate em pó\n",
    "    2 colheres (sopa) de manteiga.\n",
    "    3 xícaras (chá) de farinha de trigo.\n",
    "    2 xícaras (chá) de açúcar.\n",
    "    2 colheres (chá) de fermento.\n",
    "    1 xícara (chá) de leite.\n",
    "    \"\"\" \n",
    "\n",
    "    \n",
    "\n",
    "elif receitas == 2:\n",
    "    print \"Ótimo, vamos fazer então um omelete ! \"\n",
    "    print \"Ja possui os ingredientes para faze=lo ? 1 para Sim ou 2 para nao\" \n",
    "    \n",
    "tr1 = input(\"Possui a receita? \")\n",
    "    \n",
    "\n",
    "    "
   ]
  },
  {
   "cell_type": "code",
   "execution_count": null,
   "metadata": {
    "collapsed": true
   },
   "outputs": [],
   "source": []
  }
 ],
 "metadata": {
  "kernelspec": {
   "display_name": "Python 2",
   "language": "python",
   "name": "python2"
  },
  "language_info": {
   "codemirror_mode": {
    "name": "ipython",
    "version": 2
   },
   "file_extension": ".py",
   "mimetype": "text/x-python",
   "name": "python",
   "nbconvert_exporter": "python",
   "pygments_lexer": "ipython2",
   "version": "2.7.13"
  }
 },
 "nbformat": 4,
 "nbformat_minor": 2
}
